{
  "cells": [
    {
      "cell_type": "code",
      "metadata": {},
      "source": [
        "\n",
        "import pandas\n",
        "import numpy\n",
        "from matplotlib import pyplot as plt\n",
        "import seaborn as sns\n",
        "\n",
        "filename = \"C:/Users/Armando/Documents/Econometria_Aplicada/ModelosCenace/ProyeccionDemandaOferta/Datos\" \\\n",
        "           \"/RetiroEnergia_2016-2020.csv\"\n",
        "\n",
        "\n",
        "columnNames = [\"Periodo\", \"Retiro\"]\n",
        "\n",
        "df = pandas.read_csv(filename, names=columnNames)\n",
        "\n",
        "## Otra forma de hacerlo es con df.Columns\n",
        "\n",
        "df.columns = columnNames\n",
        "\n",
        "print(pandas.isnull(df))    # Check missing values\n",
        "\n",
        "print(df.describe())        # Describe los datos mediante estad\u00edstica descriptiva\n",
        "\n",
        "# Data Shape\n",
        "print(df.shape)             # Indica el dimensionamiento de los datos (renglon, columna)\n",
        "\n",
        "### DataType\n",
        "print(df.dtypes)        # Muestra el tipo de los datos\n",
        "\n",
        "# examinar primeras observaciones de nuestros datos\n",
        "print(df.head())\n",
        "print(df.head(2))\n",
        "\n",
        "df.Periodo.replace((\"2016/02\"), (\"2016-02\"), inplace=True)\n",
        "\n",
        "print(df.head(2))\n",
        "\n",
        "\n"
      ],
      "outputs": [],
      "execution_count": null
    }
  ],
  "metadata": {
    "anaconda-cloud": {},
    "kernelspec": {
      "display_name": "Python 3",
      "language": "python",
      "name": "python3"
    },
    "language_info": {
      "codemirror_mode": {
        "name": "ipython",
        "version": 3
      },
      "file_extension": ".py",
      "mimetype": "text/x-python",
      "name": "python",
      "nbconvert_exporter": "python",
      "pygments_lexer": "ipython3",
      "version": "3.6.1"
    }
  },
  "nbformat": 4,
  "nbformat_minor": 4
}