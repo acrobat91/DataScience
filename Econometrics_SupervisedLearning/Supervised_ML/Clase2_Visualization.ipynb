{
  "cells": [
    {
      "cell_type": "code",
      "metadata": {},
      "source": [
        "import seaborn as sns\n",
        "import matplotlib.pyplot as plt\n",
        "\n",
        "\n",
        "'''\n",
        "IMPORTANTE para graficar seaborn y matplotlib.pyplot van juntas.\n",
        "Se genera el gr\u00e1fico con pyplot o seaborn y se muestra el gr\u00e1fico con plt.show()\n",
        "'''\n",
        "\n",
        "sns.set()\n",
        "\n",
        "'''\n",
        "Gr\u00e1fica normal con pyplot\n",
        "\n",
        "x = [1, 2, 3, 4, 5]\n",
        "y = [2, 4, 5, 6, 8]\n",
        "\n",
        "plt.plot(x, y)\n",
        "plt.show()\n",
        "\n",
        "'''\n",
        "\n",
        "\n",
        "# Gr\u00e1fico 1 con tips\n",
        "tips = sns.load_dataset(\"tips\")\n",
        "sns.relplot(x=\"total_bill\", y=\"tip\", col=\"time\",\n",
        "            hue=\"smoker\", style=\"smoker\", size=\"size\",\n",
        "            data=tips)\n",
        "plt.show()\n",
        "\n",
        "## Seaborn Gr\u00e1fico 2 con iris\n",
        "iris = sns.load_dataset('iris')\n",
        "sns.pairplot(iris, hue='species', height=3, aspect=1)\n",
        "plt.show()\n",
        "\n",
        "# Histograma\n",
        "iris.hist(edgecolor='black', linewidth=1.2, figsize=(12, 8))\n",
        "plt.show()\n",
        "\n",
        "\n",
        "print(iris.head())\n",
        "print(iris.describe())\n",
        "print(iris.info())\n",
        "print(iris.groupby('species').size())\n",
        "\n",
        "\n",
        "\n",
        "\n"
      ],
      "outputs": [],
      "execution_count": null
    }
  ],
  "metadata": {
    "anaconda-cloud": {},
    "kernelspec": {
      "display_name": "Python 3",
      "language": "python",
      "name": "python3"
    },
    "language_info": {
      "codemirror_mode": {
        "name": "ipython",
        "version": 3
      },
      "file_extension": ".py",
      "mimetype": "text/x-python",
      "name": "python",
      "nbconvert_exporter": "python",
      "pygments_lexer": "ipython3",
      "version": "3.6.1"
    }
  },
  "nbformat": 4,
  "nbformat_minor": 4
}